{
 "cells": [
  {
   "cell_type": "code",
   "execution_count": 2,
   "id": "2d0672d8-6cb0-486a-b413-b921ba21868e",
   "metadata": {},
   "outputs": [
    {
     "data": {
      "text/plain": [
       "['.git', '.gitignore', 'README.md', 'data', 'notebooks', '.virtual_documents']"
      ]
     },
     "execution_count": 2,
     "metadata": {},
     "output_type": "execute_result"
    }
   ],
   "source": [
    "import os\n",
    "\n",
    "os.listdir(\"../.\")"
   ]
  },
  {
   "cell_type": "code",
   "execution_count": 3,
   "id": "95c2e2cb-fd6b-4b78-a1a0-ae3e87f6346b",
   "metadata": {},
   "outputs": [
    {
     "data": {
      "text/plain": [
       "['imbalance',\n",
       " 'horizontal-misalignment',\n",
       " 'normal',\n",
       " 'overhang',\n",
       " 'underhang',\n",
       " 'vertical-misalignment']"
      ]
     },
     "execution_count": 3,
     "metadata": {},
     "output_type": "execute_result"
    }
   ],
   "source": [
    "os.listdir(\"../data/.\")"
   ]
  },
  {
   "cell_type": "code",
   "execution_count": 5,
   "id": "45c35b38-1320-4833-9122-71c42ec35074",
   "metadata": {},
   "outputs": [
    {
     "name": "stdout",
     "output_type": "stream",
     "text": [
      ".-normal-21.7088\n"
     ]
    },
    {
     "data": {
      "text/html": [
       "<div>\n",
       "<style scoped>\n",
       "    .dataframe tbody tr th:only-of-type {\n",
       "        vertical-align: middle;\n",
       "    }\n",
       "\n",
       "    .dataframe tbody tr th {\n",
       "        vertical-align: top;\n",
       "    }\n",
       "\n",
       "    .dataframe thead th {\n",
       "        text-align: right;\n",
       "    }\n",
       "</style>\n",
       "<table border=\"1\" class=\"dataframe\">\n",
       "  <thead>\n",
       "    <tr style=\"text-align: right;\">\n",
       "      <th></th>\n",
       "      <th>tachometer</th>\n",
       "      <th>underhang_axial</th>\n",
       "      <th>underhang_radiale</th>\n",
       "      <th>underhang_tangential</th>\n",
       "      <th>overhang_axial</th>\n",
       "      <th>overhang_radiale</th>\n",
       "      <th>overhang_tangential</th>\n",
       "      <th>microphone</th>\n",
       "    </tr>\n",
       "  </thead>\n",
       "  <tbody>\n",
       "    <tr>\n",
       "      <th>0</th>\n",
       "      <td>-0.58497</td>\n",
       "      <td>1.08170</td>\n",
       "      <td>0.052847</td>\n",
       "      <td>-0.038400</td>\n",
       "      <td>0.39780</td>\n",
       "      <td>-0.014575</td>\n",
       "      <td>0.27397</td>\n",
       "      <td>0.071847</td>\n",
       "    </tr>\n",
       "    <tr>\n",
       "      <th>1</th>\n",
       "      <td>-0.54933</td>\n",
       "      <td>-0.62790</td>\n",
       "      <td>-0.013848</td>\n",
       "      <td>-0.057155</td>\n",
       "      <td>0.37445</td>\n",
       "      <td>-0.012900</td>\n",
       "      <td>0.22655</td>\n",
       "      <td>-0.009369</td>\n",
       "    </tr>\n",
       "    <tr>\n",
       "      <th>2</th>\n",
       "      <td>-0.58429</td>\n",
       "      <td>1.45450</td>\n",
       "      <td>0.284680</td>\n",
       "      <td>-0.001026</td>\n",
       "      <td>0.40556</td>\n",
       "      <td>-0.010436</td>\n",
       "      <td>0.24323</td>\n",
       "      <td>-0.051254</td>\n",
       "    </tr>\n",
       "    <tr>\n",
       "      <th>3</th>\n",
       "      <td>-0.54869</td>\n",
       "      <td>-0.46553</td>\n",
       "      <td>-0.076366</td>\n",
       "      <td>-0.052640</td>\n",
       "      <td>0.36573</td>\n",
       "      <td>-0.007554</td>\n",
       "      <td>0.22714</td>\n",
       "      <td>0.000269</td>\n",
       "    </tr>\n",
       "    <tr>\n",
       "      <th>4</th>\n",
       "      <td>-0.58622</td>\n",
       "      <td>1.16170</td>\n",
       "      <td>0.351990</td>\n",
       "      <td>0.005738</td>\n",
       "      <td>0.40104</td>\n",
       "      <td>-0.005757</td>\n",
       "      <td>0.26301</td>\n",
       "      <td>-0.080021</td>\n",
       "    </tr>\n",
       "  </tbody>\n",
       "</table>\n",
       "</div>"
      ],
      "text/plain": [
       "   tachometer  underhang_axial  underhang_radiale  underhang_tangential  \\\n",
       "0    -0.58497          1.08170           0.052847             -0.038400   \n",
       "1    -0.54933         -0.62790          -0.013848             -0.057155   \n",
       "2    -0.58429          1.45450           0.284680             -0.001026   \n",
       "3    -0.54869         -0.46553          -0.076366             -0.052640   \n",
       "4    -0.58622          1.16170           0.351990              0.005738   \n",
       "\n",
       "   overhang_axial  overhang_radiale  overhang_tangential  microphone  \n",
       "0         0.39780         -0.014575              0.27397    0.071847  \n",
       "1         0.37445         -0.012900              0.22655   -0.009369  \n",
       "2         0.40556         -0.010436              0.24323   -0.051254  \n",
       "3         0.36573         -0.007554              0.22714    0.000269  \n",
       "4         0.40104         -0.005757              0.26301   -0.080021  "
      ]
     },
     "execution_count": 5,
     "metadata": {},
     "output_type": "execute_result"
    }
   ],
   "source": [
    "col_names = ['tachometer', 'underhang_axial', 'underhang_radiale', 'underhang_tangential', \n",
    "             'overhang_axial', 'overhang_radiale', 'overhang_tangential', 'microphone']\n",
    "\n",
    "import pandas as pd\n",
    "from random import sample\n",
    "\n",
    "# Load data\n",
    "data_dict = {}\n",
    "for dirname, _, filenames in os.walk(\"../data/.\"):\n",
    "    for filename in filenames:\n",
    "        file_addr = os.path.join(dirname, filename)\n",
    "        if \"normal\" in file_addr:\n",
    "            file_addr = os.path.join(dirname, filename)\n",
    "            df = pd.read_csv(file_addr, names=col_names)\n",
    "            class_name = \"-\".join(file_addr.split('.csv')[0].split(\"/\")[-3:])\n",
    "            data_dict[class_name] = df\n",
    "\n",
    "normal_list = [k for k in data_dict.keys() if 'normal' in k]\n",
    "normal_sample = sample(normal_list, 1)[0]\n",
    "print(normal_sample)\n",
    "\n",
    "sample_df = data_dict[normal_sample]\n",
    "sample_df.head()"
   ]
  },
  {
   "cell_type": "code",
   "execution_count": 8,
   "id": "c50c49c1-cb83-481f-95fc-551e7e20fa83",
   "metadata": {},
   "outputs": [
    {
     "name": "stdout",
     "output_type": "stream",
     "text": [
      "['.-normal-12.288', '.-normal-13.1072', '.-normal-14.336', '.-normal-15.1552', '.-normal-16.1792', '.-normal-17.2032', '.-normal-18.432', '.-normal-19.6608', '.-normal-20.2752', '.-normal-21.7088', '.-normal-22.3232', '.-normal-23.552', '.-normal-24.576', '.-normal-25.6', '.-normal-26.624', '.-normal-27.4432', '.-normal-28.8768', '.-normal-29.4912', '.-normal-30.72', '.-normal-31.744', '.-normal-32.9728', '.-normal-33.5872', '.-normal-34.2016', '.-normal-35.4304', '.-normal-36.4544', '.-normal-37.6832', '.-normal-38.2976', '.-normal-39.3216', '.-normal-40.3456', '.-normal-41.7792', '.-normal-42.3936', '.-normal-43.6224', '.-normal-44.6464', '.-normal-45.4656', '.-normal-46.2848', '.-normal-47.7184', '.-normal-48.9472', '.-normal-49.5616', '.-normal-51.8144', '.-normal-52.4288', '.-normal-53.8624', '.-normal-54.6816', '.-normal-55.7056', '.-normal-56.7296', '.-normal-57.9584', '.-normal-58.7776', '.-normal-59.5968', '.-normal-60.416', '.-normal-61.44']\n"
     ]
    }
   ],
   "source": [
    "print(list(data_dict.keys()))"
   ]
  },
  {
   "cell_type": "code",
   "execution_count": null,
   "id": "a6c13982-e408-41e5-aa46-0b03f1af7467",
   "metadata": {},
   "outputs": [],
   "source": []
  }
 ],
 "metadata": {
  "kernelspec": {
   "display_name": "Python 3 (ipykernel)",
   "language": "python",
   "name": "python3"
  },
  "language_info": {
   "codemirror_mode": {
    "name": "ipython",
    "version": 3
   },
   "file_extension": ".py",
   "mimetype": "text/x-python",
   "name": "python",
   "nbconvert_exporter": "python",
   "pygments_lexer": "ipython3",
   "version": "3.8.18"
  }
 },
 "nbformat": 4,
 "nbformat_minor": 5
}
