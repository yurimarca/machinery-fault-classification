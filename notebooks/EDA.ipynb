{
 "cells": [
  {
   "cell_type": "code",
   "execution_count": 1,
   "id": "2d0672d8-6cb0-486a-b413-b921ba21868e",
   "metadata": {},
   "outputs": [
    {
     "data": {
      "text/plain": [
       "['.git', '.gitignore', 'README.md', 'data', 'notebooks', '.virtual_documents']"
      ]
     },
     "execution_count": 1,
     "metadata": {},
     "output_type": "execute_result"
    }
   ],
   "source": [
    "import os\n",
    "\n",
    "os.listdir(\"../.\")"
   ]
  },
  {
   "cell_type": "code",
   "execution_count": 2,
   "id": "95c2e2cb-fd6b-4b78-a1a0-ae3e87f6346b",
   "metadata": {},
   "outputs": [
    {
     "data": {
      "text/plain": [
       "['imbalance',\n",
       " 'horizontal-misalignment',\n",
       " 'normal',\n",
       " 'overhang',\n",
       " 'underhang',\n",
       " 'vertical-misalignment']"
      ]
     },
     "execution_count": 2,
     "metadata": {},
     "output_type": "execute_result"
    }
   ],
   "source": [
    "os.listdir(\"../data/.\")"
   ]
  },
  {
   "cell_type": "code",
   "execution_count": null,
   "id": "45c35b38-1320-4833-9122-71c42ec35074",
   "metadata": {},
   "outputs": [],
   "source": [
    "col_names = ['tachometer', 'underhang_axial', 'underhang_radiale', 'underhang_tangential', \n",
    "             'overhang_axial', 'overhang_radiale', 'overhang_tangential', 'microphone']\n",
    "\n",
    "import pandas as pd\n",
    "from random import sample\n",
    "\n",
    "# Load data\n",
    "data_dict = {}\n",
    "for dirname, _, filenames in os.walk(\"../data/.\"):\n",
    "    for filename in filenames:\n",
    "        file_addr = os.path.join(dirname, filename)\n",
    "        df = pd.read_csv(file_addr, names=col_names)\n",
    "        class_name = \"-\".join(file_addr.split('.csv')[0].split(\"/\")[-3:])\n",
    "        data_dict[class_name] = df\n",
    "\n",
    "normal_list = [k for k in data_dict.keys() if 'normal' in k]\n",
    "normal_sample = sample(normal_list, 1)[0]\n",
    "print(normal_sample)\n",
    "\n",
    "sample_df = data_dict[normal_sample]\n",
    "sample_df.head()"
   ]
  },
  {
   "cell_type": "code",
   "execution_count": null,
   "id": "c50c49c1-cb83-481f-95fc-551e7e20fa83",
   "metadata": {},
   "outputs": [],
   "source": []
  }
 ],
 "metadata": {
  "kernelspec": {
   "display_name": "Python 3 (ipykernel)",
   "language": "python",
   "name": "python3"
  },
  "language_info": {
   "codemirror_mode": {
    "name": "ipython",
    "version": 3
   },
   "file_extension": ".py",
   "mimetype": "text/x-python",
   "name": "python",
   "nbconvert_exporter": "python",
   "pygments_lexer": "ipython3",
   "version": "3.8.18"
  }
 },
 "nbformat": 4,
 "nbformat_minor": 5
}
